{
 "cells": [
  {
   "cell_type": "code",
   "execution_count": 1,
   "metadata": {},
   "outputs": [],
   "source": [
    "import kernel"
   ]
  },
  {
   "cell_type": "code",
   "execution_count": 2,
   "metadata": {},
   "outputs": [],
   "source": [
    "k = kernel.Kernel(\"linux-4.14.152/\")\n",
    "k.clean()\n",
    "k.tinyconfig()\n",
    "k.compile(time=True)\n",
    "ctime = k.get_compile_time()\n",
    "k.save(\"./backup\")"
   ]
  },
  {
   "cell_type": "code",
   "execution_count": 3,
   "metadata": {},
   "outputs": [
    {
     "data": {
      "text/plain": [
       "36.6189054279821"
      ]
     },
     "execution_count": 3,
     "metadata": {},
     "output_type": "execute_result"
    }
   ],
   "source": [
    "ctime"
   ]
  },
  {
   "cell_type": "code",
   "execution_count": 4,
   "metadata": {
    "scrolled": true
   },
   "outputs": [
    {
     "name": "stdout",
     "output_type": "stream",
     "text": [
      "[c] CHECKER: BULT-IN...\n",
      "[i] Checking for built-in.o\n",
      "[x] CHECKER: BUILT-IN <DONE>\n",
      "[c] CHECKER: VMLINUX SIZE\n",
      "[x] CHECKER: VMLINUX SIZE <DONE>\n",
      "[c] CHECKER: DIR TIMESTAMP\n",
      "[x] CHECKER: DIR TIMESTAMP <DONE>\n"
     ]
    }
   ],
   "source": [
    "ch = kernel.Checker(k, verbose=True)\n",
    "ch.builtin()\n",
    "vmsize = ch.vmlinux_size()\n",
    "ch.dir_full_timestamp()"
   ]
  },
  {
   "cell_type": "code",
   "execution_count": 5,
   "metadata": {
    "scrolled": true
   },
   "outputs": [
    {
     "data": {
      "text/plain": [
       "1202432"
      ]
     },
     "execution_count": 5,
     "metadata": {},
     "output_type": "execute_result"
    }
   ],
   "source": [
    "vmsize"
   ]
  },
  {
   "cell_type": "code",
   "execution_count": 6,
   "metadata": {},
   "outputs": [],
   "source": [
    "import expdsl"
   ]
  },
  {
   "cell_type": "code",
   "execution_count": 8,
   "metadata": {},
   "outputs": [],
   "source": [
    "sym, chains = expdsl.parse_file(\"test.cfg\")"
   ]
  },
  {
   "cell_type": "code",
   "execution_count": 9,
   "metadata": {},
   "outputs": [
    {
     "data": {
      "text/plain": [
       "({'c': 'linux-4.14.152/.config'}, [['c']])"
      ]
     },
     "execution_count": 9,
     "metadata": {},
     "output_type": "execute_result"
    }
   ],
   "source": [
    "sym, chains"
   ]
  },
  {
   "cell_type": "code",
   "execution_count": 1,
   "metadata": {},
   "outputs": [],
   "source": [
    "import itertools"
   ]
  },
  {
   "cell_type": "code",
   "execution_count": 7,
   "metadata": {},
   "outputs": [],
   "source": [
    "perm = list(map(lambda x: \" -> \".join(x), itertools.permutations([\"config{}\".format(i) for i in range(10)])))"
   ]
  },
  {
   "cell_type": "code",
   "execution_count": 200,
   "metadata": {},
   "outputs": [],
   "source": [
    "test = []\n",
    "i = 0\n",
    "for ch in perm:\n",
    "    if ch.split(' -> ')[0] == \"config{}\".format(i):\n",
    "        test.append(perm[perm.index(ch) + 1])\n",
    "        i += 1"
   ]
  },
  {
   "cell_type": "code",
   "execution_count": 12,
   "metadata": {},
   "outputs": [
    {
     "data": {
      "text/plain": [
       "'config0 -> config1 -> config2 -> config3 -> config4 -> config5 -> config7 -> config9 -> config8 -> config6'"
      ]
     },
     "execution_count": 12,
     "metadata": {},
     "output_type": "execute_result"
    }
   ],
   "source": [
    "perm[]"
   ]
  },
  {
   "cell_type": "code",
   "execution_count": 14,
   "metadata": {},
   "outputs": [
    {
     "ename": "SyntaxError",
     "evalue": "invalid syntax (<ipython-input-14-2d04f6099a43>, line 1)",
     "output_type": "error",
     "traceback": [
      "\u001b[0;36m  File \u001b[0;32m\"<ipython-input-14-2d04f6099a43>\"\u001b[0;36m, line \u001b[0;32m1\u001b[0m\n\u001b[0;31m    10!\u001b[0m\n\u001b[0m      ^\u001b[0m\n\u001b[0;31mSyntaxError\u001b[0m\u001b[0;31m:\u001b[0m invalid syntax\n"
     ]
    }
   ],
   "source": [
    "10!"
   ]
  },
  {
   "cell_type": "code",
   "execution_count": 16,
   "metadata": {},
   "outputs": [
    {
     "data": {
      "text/plain": [
       "['config0 -> config1 -> config2 -> config3 -> config4 -> config5 -> config6 -> config7 -> config8 -> config9',\n",
       " 'config1 -> config0 -> config2 -> config3 -> config4 -> config5 -> config6 -> config7 -> config8 -> config9',\n",
       " 'config2 -> config0 -> config1 -> config3 -> config4 -> config5 -> config6 -> config7 -> config8 -> config9',\n",
       " 'config3 -> config0 -> config1 -> config2 -> config4 -> config5 -> config6 -> config7 -> config8 -> config9',\n",
       " 'config4 -> config0 -> config1 -> config2 -> config3 -> config5 -> config6 -> config7 -> config8 -> config9',\n",
       " 'config5 -> config0 -> config1 -> config2 -> config3 -> config4 -> config6 -> config7 -> config8 -> config9',\n",
       " 'config6 -> config0 -> config1 -> config2 -> config3 -> config4 -> config5 -> config7 -> config8 -> config9',\n",
       " 'config7 -> config0 -> config1 -> config2 -> config3 -> config4 -> config5 -> config6 -> config8 -> config9',\n",
       " 'config8 -> config0 -> config1 -> config2 -> config3 -> config4 -> config5 -> config6 -> config7 -> config9',\n",
       " 'config9 -> config0 -> config1 -> config2 -> config3 -> config4 -> config5 -> config6 -> config7 -> config8']"
      ]
     },
     "execution_count": 16,
     "metadata": {},
     "output_type": "execute_result"
    }
   ],
   "source": [
    "test"
   ]
  },
  {
   "cell_type": "code",
   "execution_count": 201,
   "metadata": {},
   "outputs": [
    {
     "name": "stdout",
     "output_type": "stream",
     "text": [
      "config0 -> config1 -> config2 -> config3 -> config4 -> config5 -> config6 -> config7 -> config9 -> config8\n",
      "config1 -> config0 -> config2 -> config3 -> config4 -> config5 -> config6 -> config7 -> config9 -> config8\n",
      "config2 -> config0 -> config1 -> config3 -> config4 -> config5 -> config6 -> config7 -> config9 -> config8\n",
      "config3 -> config0 -> config1 -> config2 -> config4 -> config5 -> config6 -> config7 -> config9 -> config8\n",
      "config4 -> config0 -> config1 -> config2 -> config3 -> config5 -> config6 -> config7 -> config9 -> config8\n",
      "config5 -> config0 -> config1 -> config2 -> config3 -> config4 -> config6 -> config7 -> config9 -> config8\n",
      "config6 -> config0 -> config1 -> config2 -> config3 -> config4 -> config5 -> config7 -> config9 -> config8\n",
      "config7 -> config0 -> config1 -> config2 -> config3 -> config4 -> config5 -> config6 -> config9 -> config8\n",
      "config8 -> config0 -> config1 -> config2 -> config3 -> config4 -> config5 -> config6 -> config9 -> config7\n",
      "config9 -> config0 -> config1 -> config2 -> config3 -> config4 -> config5 -> config6 -> config8 -> config7\n"
     ]
    }
   ],
   "source": [
    "for k in test:\n",
    "    print(k)"
   ]
  },
  {
   "cell_type": "code",
   "execution_count": 18,
   "metadata": {},
   "outputs": [
    {
     "name": "stdout",
     "output_type": "stream",
     "text": [
      "config0: config0\n",
      "config1: config1\n",
      "config2: config2\n",
      "config3: config3\n",
      "config4: config4\n",
      "config5: config5\n",
      "config6: config6\n",
      "config7: config7\n",
      "config8: config8\n",
      "config9: config9\n"
     ]
    }
   ],
   "source": [
    "for i in range(10):\n",
    "    c = \"config{}\".format(i)\n",
    "    print(\"{}: {}\".format(c, c))"
   ]
  },
  {
   "cell_type": "code",
   "execution_count": 19,
   "metadata": {},
   "outputs": [],
   "source": [
    "import kernel"
   ]
  },
  {
   "cell_type": "code",
   "execution_count": 20,
   "metadata": {},
   "outputs": [],
   "source": [
    "k = kernel.Kernel(\"/tmp/linux-4.14.152/\")"
   ]
  },
  {
   "cell_type": "code",
   "execution_count": 25,
   "metadata": {},
   "outputs": [],
   "source": [
    "k.clean()"
   ]
  },
  {
   "cell_type": "code",
   "execution_count": 24,
   "metadata": {},
   "outputs": [
    {
     "name": "stdout",
     "output_type": "stream",
     "text": [
      "make -C /tmp/linux-4.14.152/ O=dest -j4\n"
     ]
    }
   ],
   "source": [
    "k.compile(dest=\"dest\", config=\"config\")"
   ]
  },
  {
   "cell_type": "code",
   "execution_count": 98,
   "metadata": {},
   "outputs": [],
   "source": [
    "import pandas as pd\n",
    "import os"
   ]
  },
  {
   "cell_type": "code",
   "execution_count": 197,
   "metadata": {},
   "outputs": [],
   "source": [
    "def retrieve_tmstp(inc_dir, n):\n",
    "    tmstp_files_list = [\"{}/config{}/dir.tmstp\".format(inc_dir, i) for i in range(n)]\n",
    "    config_order_list = []\n",
    "    with open(\"\")\n",
    "    return build_df(tmstp_files_list)"
   ]
  },
  {
   "cell_type": "code",
   "execution_count": 132,
   "metadata": {},
   "outputs": [],
   "source": [
    "def parse_tmstp(tmstp_file):\n",
    "    res = dict()\n",
    "    with open(tmstp_file, 'r') as file:\n",
    "        for line in file:\n",
    "            l = line.split(\" \")\n",
    "            timestamp, name = l[0].strip(), \"/\".join(l[1].split(\"/\")[2:]).strip(\"\\n\")\n",
    "            if name == \"\":\n",
    "                name = \"LINUX_SRC_DIR\"\n",
    "            res[name] = timestamp\n",
    "    del res[\"x64.config\"]\n",
    "    del res[\"dir.tmstp\"]\n",
    "    del res[\"builtins.size\"]\n",
    "    if \"bloatto\" in res:\n",
    "        del res[\"bloatto\"]\n",
    "    return res"
   ]
  },
  {
   "cell_type": "code",
   "execution_count": 199,
   "metadata": {},
   "outputs": [],
   "source": [
    "def build_df(list_files, config_order_list):\n",
    "    data = [parse_tmstp(k) for k in list_files]\n",
    "    state = data[0].copy()\n",
    "    res = dict()\n",
    "    for i, t_file in enumerate(data):\n",
    "        for f in t_file:\n",
    "            if f in res:\n",
    "                if state[f] == t_file[f]:\n",
    "                    res[f].append(0)\n",
    "                else:\n",
    "                    state[f] = t_file[f]\n",
    "                    res[f].append(1)\n",
    "            else:\n",
    "                state[f] = t_file[f]\n",
    "                res[f] = [0 for j in range(i)]\n",
    "                res[f].append(1)\n",
    "#         if some files are not in t_files, it means that they are not\n",
    "#         in the source directory anymore: they were removed. -1 means\n",
    "#         it was removed\n",
    "        for f in res:\n",
    "            lon = len(res[f])\n",
    "            ri = i + 1\n",
    "            if lon < ri:\n",
    "                res[f].extend([-1 for j in range(ri-lon)])\n",
    "    return pd.DataFrame.from_dict(res, index=config_order_list)"
   ]
  },
  {
   "cell_type": "code",
   "execution_count": 190,
   "metadata": {},
   "outputs": [
    {
     "name": "stdout",
     "output_type": "stream",
     "text": [
      "<class 'pandas.core.frame.DataFrame'>\n",
      "RangeIndex: 10 entries, 0 to 9\n",
      "Columns: 156680 entries, LINUX_SRC_DIR to sum\n",
      "dtypes: int64(156680)\n",
      "memory usage: 12.0 MB\n"
     ]
    }
   ],
   "source": [
    "df.info()"
   ]
  },
  {
   "cell_type": "code",
   "execution_count": 203,
   "metadata": {},
   "outputs": [
    {
     "data": {
      "text/plain": [
       "'POO'"
      ]
     },
     "execution_count": 203,
     "metadata": {},
     "output_type": "execute_result"
    }
   ],
   "source": [
    "\"OOP\"[::-1]"
   ]
  },
  {
   "cell_type": "code",
   "execution_count": null,
   "metadata": {},
   "outputs": [],
   "source": []
  }
 ],
 "metadata": {
  "kernelspec": {
   "display_name": "Python 3",
   "language": "python",
   "name": "python3"
  },
  "language_info": {
   "codemirror_mode": {
    "name": "ipython",
    "version": 3
   },
   "file_extension": ".py",
   "mimetype": "text/x-python",
   "name": "python",
   "nbconvert_exporter": "python",
   "pygments_lexer": "ipython3",
   "version": "3.8.3"
  }
 },
 "nbformat": 4,
 "nbformat_minor": 4
}
